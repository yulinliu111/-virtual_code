{
 "cells": [
  {
   "cell_type": "code",
   "execution_count": 1,
   "id": "f5a46db8-a239-4b61-b410-0ea7694620ef",
   "metadata": {},
   "outputs": [],
   "source": [
    "import pandas as pd\n",
    "import numpy as np"
   ]
  },
  {
   "cell_type": "markdown",
   "id": "25c5b0e2-77a3-47ad-9960-959e7c85515c",
   "metadata": {},
   "source": [
    "# Data Processin"
   ]
  },
  {
   "cell_type": "code",
   "execution_count": null,
   "id": "13ed2522-30ad-405f-841a-0ffa6e8e053c",
   "metadata": {},
   "outputs": [],
   "source": [
    "data = pd.read_csv('../BDBpoly_2209_ppargamma.tsv', usecols=[1, 11], low_memory=False, sep='\\t')\n",
    "data.dropna(inplace=True)\n",
    "data = data.reset_index(drop=True)"
   ]
  },
  {
   "cell_type": "code",
   "execution_count": null,
   "id": "ebd0ffdc",
   "metadata": {},
   "outputs": [],
   "source": [
    "from rdkit import Chem\n",
    "from rdkit.Chem.SaltRemover import SaltRemover\n",
    "from molvs.normalize import Normalizer, Normalization\n",
    "from molvs.charge import Reionizer, Uncharger\n",
    "from molvs import Standardizer\n",
    "\n",
    "def molecule_preprocess(smi):\n",
    "\n",
    "    mol = Chem.MolFromSmiles(smi)\n",
    "    stand = Standardizer()\n",
    "    mol = stand.standardize(mol)\n",
    "    normalizer = Normalizer()\n",
    "    new1 = normalizer.normalize(mol)\n",
    "    remover = SaltRemover()\n",
    "    new2 = remover.StripMol(new1)\n",
    "    neutralize1 = Reionizer()\n",
    "    new3 = neutralize1(new2)\n",
    "    neutralize2 = Uncharger()\n",
    "    new4 = neutralize2(new3)\n",
    "    new_smiles = Chem.MolToSmiles(new4, kekuleSmiles=True)\n",
    "    return new_smiles"
   ]
  },
  {
   "cell_type": "code",
   "execution_count": null,
   "id": "4b8b7864",
   "metadata": {},
   "outputs": [],
   "source": [
    "smiles_standard = []\n",
    "for idx, smi in enumerate(total['Ligand SMILES']):\n",
    "    try:\n",
    "        smis = molecule_preprocess(smi)\n",
    "        smiles_standard.append(smis)\n",
    "    except:\n",
    "        print(f'{idx},',data_del_sym.loc[idx, 'Ligand SMILES'])"
   ]
  },
  {
   "cell_type": "code",
   "execution_count": null,
   "id": "c53e7798",
   "metadata": {},
   "outputs": [],
   "source": [
    "total['Standard_SMILES'] = smiles_standard\n",
    "total.drop('Ligand SMILES', axis=1, inplace=True)"
   ]
  },
  {
   "cell_type": "code",
   "execution_count": null,
   "id": "0b685c57",
   "metadata": {},
   "outputs": [],
   "source": [
    "total['EC50 (nM)'] = total['EC50 (nM)'].astype('float32')\n",
    "f_data = total.drop_duplicates('Standard_SMILES', keep='first')\n",
    "l_data = total.drop_duplicates('Standard_SMILES', keep='last')\n",
    "f_l_data = pd.merge(f_data, l_data, how='outer', on='Standard_SMILES')"
   ]
  },
  {
   "cell_type": "code",
   "execution_count": null,
   "id": "2c3d6b10",
   "metadata": {},
   "outputs": [],
   "source": [
    "for idx in f_l_data.index:\n",
    "    f_l_data.loc[idx, 'EC50 (nM)'] = min(f_l_data.loc[idx, 'EC50 (nM)_x'], f_l_data.loc[idx, 'EC50 (nM)_y'])\n",
    "f_l_data.drop(['EC50 (nM)_x', 'EC50 (nM)_y'], axis=1, inplace=True)\n",
    "f_l_data['pEC50'] = f_l_data['EC50 (nM)'].apply(lambda x: round(-np.log10(x * 1e-9), 2))"
   ]
  },
  {
   "cell_type": "code",
   "execution_count": null,
   "id": "7e7ccebc",
   "metadata": {},
   "outputs": [],
   "source": [
    "f_l_data['label'] = np.where(f_l_data['pEC50'].values > 6.0, 1, 0)\n",
    "f_l_data['label'].value_counts()"
   ]
  },
  {
   "cell_type": "markdown",
   "id": "b41e162c-3538-499a-9833-9acec3baca0c",
   "metadata": {},
   "source": [
    "# Molecular fingerprint generation"
   ]
  },
  {
   "cell_type": "code",
   "execution_count": null,
   "id": "a512a58d",
   "metadata": {},
   "outputs": [],
   "source": [
    "from rdkit import Chem\n",
    "from rdkit.Chem import AllChem\n",
    "f_l_data = pd.read_csv('../process_PPARr_EC50.csv')\n",
    "mols = [Chem.MolFromSmiles(smi) for smi in f_l_data['Standard_SMILES']]\n",
    "\n",
    "ecfp6 = pd.DataFrame([AllChem.GetMorganFingerprintAsBitVect(mol, radius=3, nBits=2048, useChirality=True).ToList() \\\n",
    "                     for mol in mols], columns=[f'mg{i}' for i in range(2048)])\n",
    "ecfp6"
   ]
  },
  {
   "cell_type": "markdown",
   "id": "84c194e8-5de7-444c-b726-9f7b3564bd36",
   "metadata": {},
   "source": [
    "# Model Building"
   ]
  },
  {
   "cell_type": "code",
   "execution_count": null,
   "id": "865eaa3d-bdb7-4cd5-a126-490abf943071",
   "metadata": {},
   "outputs": [],
   "source": [
    "from sklearn.model_selection import train_test_split, KFold\n",
    "xtrain, xtest, ytrain, ytest = train_test_split(ecfp6, f_l_data['label'].values, test_size=0.3, stratify=f_l_data['label'].values, random_state=45)\n",
    "xvalid, xtest, yvalid, ytest = train_test_split(xtest, ytest, train_size=(1/3), stratify=ytest, random_state=45)"
   ]
  },
  {
   "cell_type": "code",
   "execution_count": null,
   "id": "9b691874",
   "metadata": {},
   "outputs": [],
   "source": [
    "from sklearn.model_selection import train_test_split, KFold\n",
    "from sklearn.ensemble import RandomForestClassifier\n",
    "rf = RandomForestClassifier()\n",
    "rf.fit(xtrain, ytrain)\n",
    "\n",
    "pred_va = rf.predict_proba(xvalid)\n",
    "evaluateScorex(yvalid, pred_va)\n",
    "pred_te = rf.predict_proba(xtest)\n",
    "evaluateScorex(ytest, pred_te)"
   ]
  },
  {
   "cell_type": "code",
   "execution_count": null,
   "id": "6c778c66",
   "metadata": {},
   "outputs": [],
   "source": [
    "from sklearn.ensemble import ExtraTreesClassifier\n",
    "et = ExtraTreesClassifier()\n",
    "et.fit(xtrain, ytrain)\n",
    "\n",
    "pred_vae = et.predict_proba(xvalid)\n",
    "pred_tee = et.predict_proba(xtest)\n",
    "evaluateScorex(yvalid, pred_vae),evaluateScorex(ytest, pred_tee)"
   ]
  },
  {
   "cell_type": "code",
   "execution_count": null,
   "id": "d7116e0e",
   "metadata": {},
   "outputs": [],
   "source": [
    "import optuna\n",
    "import sklearn\n",
    "import xgboost as xgb\n",
    "def objective(trial):\n",
    "    train_x, valid_x, train_y, valid_y = train_test_split(xtrain, ytrain, test_size=0.2)\n",
    "    dtrain = xgb.DMatrix(train_x, label=train_y)\n",
    "    dvalid = xgb.DMatrix(valid_x, label=valid_y)\n",
    "\n",
    "    param = {\n",
    "        \"verbosity\": 0,\n",
    "        \"objective\": \"binary:logistic\",\n",
    "        \"eval_metric\": \"auc\",\n",
    "        \"booster\": trial.suggest_categorical(\"booster\", [\"gbtree\"]),\n",
    "        \"lambda\": trial.suggest_float(\"lambda\", 1e-8, 1.0, log=True),\n",
    "        \"alpha\": trial.suggest_float(\"alpha\", 1e-8, 1.0, log=True),\n",
    "    }\n",
    "\n",
    "    if param[\"booster\"] == \"gbtree\" or param[\"booster\"] == \"dart\":\n",
    "        param[\"max_depth\"] = trial.suggest_int(\"max_depth\", 1, 2**6)\n",
    "        param[\"eta\"] = trial.suggest_float(\"eta\", 1e-8, 1.0, log=True)\n",
    "        param[\"gamma\"] = trial.suggest_float(\"gamma\", 1e-8, 1.0, log=True)\n",
    "        param[\"grow_policy\"] = trial.suggest_categorical(\"grow_policy\", [\"depthwise\", \"lossguide\"])\n",
    "    if param[\"booster\"] == \"dart\":\n",
    "        param[\"sample_type\"] = trial.suggest_categorical(\"sample_type\", [\"uniform\", \"weighted\"])\n",
    "        param[\"normalize_type\"] = trial.suggest_categorical(\"normalize_type\", [\"tree\", \"forest\"])\n",
    "        param[\"rate_drop\"] = trial.suggest_float(\"rate_drop\", 1e-8, 1.0, log=True)\n",
    "        param[\"skip_drop\"] = trial.suggest_float(\"skip_drop\", 1e-8, 1.0, log=True)\n",
    "\n",
    "    # Add a callback for pruning.\n",
    "    pruning_callback = optuna.integration.XGBoostPruningCallback(trial, \"validation-auc\")\n",
    "    bst = xgb.train(param, dtrain, evals=[(dvalid, \"validation\")], callbacks=[pruning_callback])\n",
    "    preds = bst.predict(dvalid)\n",
    "    pred_labels = np.rint(preds)\n",
    "    accuracy = sklearn.metrics.roc_auc_score(valid_y, preds)\n",
    "    return accuracy\n",
    "\n",
    "\n",
    "if __name__ == \"__main__\":\n",
    "    study = optuna.create_study(\n",
    "        pruner=optuna.pruners.MedianPruner(n_warmup_steps=5), direction=\"maximize\"\n",
    "    )\n",
    "    study.optimize(objective, n_trials=100)\n",
    "    print(study.best_trial)"
   ]
  },
  {
   "cell_type": "code",
   "execution_count": null,
   "id": "9720c7ab",
   "metadata": {},
   "outputs": [],
   "source": [
    "params = study.best_params\n",
    "extra = {\n",
    "    \"verbosity\": 0,\n",
    "        \"objective\": \"binary:logistic\",\n",
    "        \"eval_metric\": \"auc\",\n",
    "}\n",
    "params.update(extra)\n",
    "\n",
    "dtrain = xgb.DMatrix(xtrain, ytrain)\n",
    "dvalid = xgb.DMatrix(xvalid, yvalid)\n",
    "dtest = xgb.DMatrix(xtest)\n",
    "\n",
    "xgbm = xgb.train(params, dtrain, num_boost_round=5000,evals=[(dtrain, \"train\"),(dvalid, \"valid\")], early_stopping_rounds=50)\n",
    "pred_pro_val = xgbm.predict(dvalid, iteration_range=(0, xgbm.best_ntree_limit + 1))\n",
    "pred_pro_te = xgbm.predict(dtest, iteration_range=(0, xgbm.best_ntree_limit + 1))\n",
    "evaluateScorex(yvalid, pred_pro_val),evaluateScorex(ytest, pred_pro_te)"
   ]
  },
  {
   "cell_type": "markdown",
   "id": "5bfbec3f-d51a-4914-9d5f-4f3a89e3100e",
   "metadata": {},
   "source": [
    "# Ten-fold cross-validation"
   ]
  },
  {
   "cell_type": "code",
   "execution_count": null,
   "id": "2711151e-abf6-45e3-aba6-6724332517c7",
   "metadata": {},
   "outputs": [],
   "source": [
    "from sklearn.metrics import roc_auc_score, f1_score, precision_score, recall_score, confusion_matrix, matthews_corrcoef,balanced_accuracy_score\n",
    "def evaluateScorex(y, pred_pro):\n",
    "    try:\n",
    "        auc = roc_auc_score(y, pred_pro[:, 1])\n",
    "        pred = np.rint(pred_pro[:, 1])\n",
    "    except:\n",
    "        auc = roc_auc_score(y, pred_pro)\n",
    "        pred = np.rint(pred_pro)\n",
    "    bacc = balanced_accuracy_score(y, pred)\n",
    "    mcc = matthews_corrcoef(y, pred)\n",
    "    tn, fp, fn, tp = confusion_matrix(y, pred).ravel()\n",
    "    # kappa = cohen_kappa_score(y, pred)\n",
    "    SE = tp / (tp + fn)\n",
    "    SP = tn / (tn + fp)\n",
    "    f1 = f1_score(y, pred)\n",
    "    precision = precision_score(y, pred)\n",
    "    recall = recall_score(y, pred)\n",
    "    return auc, bacc, mcc, SE, SP, f1, precision, recall"
   ]
  },
  {
   "cell_type": "code",
   "execution_count": null,
   "id": "5992b982",
   "metadata": {},
   "outputs": [],
   "source": [
    "from sklearn.ensemble import RandomForestClassifier\n",
    "def cv_fold_model_rf(X, Y, xva, yva, xtest):\n",
    "    X = X.reset_index(drop=True)\n",
    "    kf = KFold(n_splits=10, shuffle=True)\n",
    "    val_result = []\n",
    "    pred1 = 0.0\n",
    "    pred_test = 0.0\n",
    "    pred_val_result = []\n",
    "    models = []\n",
    "    for k, (tridx, vaidx)in enumerate(kf.split(X, Y)):\n",
    "        print(f'*******************{k + 1}*******************')\n",
    "        \n",
    "        xtrain, xvalid = X.loc[tridx,:], X.loc[vaidx,:]\n",
    "        ytrain, yvalid = Y[tridx], Y[vaidx]\n",
    "        \n",
    "        rf = RandomForestClassifier()\n",
    "        rf.fit(xtrain, ytrain,)\n",
    "        pred_val_pro = rf.predict_proba(xvalid)\n",
    "        auc, bacc, mcc, se, sp, f1, pre, rec = evaluateScorex(yvalid, pred_val_pro)\n",
    "        print(f'Fold{k + 1 }，cross-validation scores, auc_score:{auc}, ba_score:{bacc}, \\\n",
    "        mcc_score:{mcc}, se/sp_score:{se}/ {sp},f1_score:{f1},precision_score:{pre},recall_score:{rec}')\n",
    "        pred_val_result.append([auc, bacc, mcc, se, sp,f1,pre,rec])\n",
    "        pred_test_pro = rf.predict_proba(xva)\n",
    "        auc_test, bacc_test, mcc_test, se_test, sp_test, f1_test, pre_test, rec_test \\\n",
    "                                                                = evaluateScorex(yva, pred_test_pro)\n",
    "        print(f'Fold{k + 1 }，the score of the validation set is, auc_score:{auc_test}, ba_score:{bacc_test}, mcc_score:{mcc_test}, se/sp_score:{se_test}/ {sp_test},f1_score:{f1_test},precision_score:{pre_test},recall_score:{rec_test}')\n",
    "        pred1 += pred_test_pro\n",
    "        val_result.append([auc_test, bacc_test, mcc_test, se_test, sp_test, f1_test,pre_test,rec_test])\n",
    "        \n",
    "        pred = rf.predict_proba(xtest)\n",
    "        pred_test += pred\n",
    "        models.append(rf)\n",
    "    pred_mean = pred1 / 10\n",
    "    mean_pred_eval = np.mean(pred_val_result, axis=0)\n",
    "    mean_pred_eval1 = np.mean(val_result, axis=0)\n",
    "    test_predmean = pred_test / 10\n",
    "    print('Cross validation 10 fold average:', mean_pred_eval)\n",
    "    print('Validation set 10 off average:', mean_pred_eval1)\n",
    "    return pred_mean, models, test_predmean"
   ]
  },
  {
   "cell_type": "code",
   "execution_count": null,
   "id": "42bb19e3",
   "metadata": {},
   "outputs": [],
   "source": [
    "valid_pred_rf, model_rf, test_pred_rf = cv_fold_model_rf(xtrain, ytrain, xvalid, yvalid, xtest)"
   ]
  },
  {
   "cell_type": "markdown",
   "id": "2432d487",
   "metadata": {},
   "source": [
    "# Model Explanation"
   ]
  },
  {
   "cell_type": "code",
   "execution_count": null,
   "id": "3cc87750",
   "metadata": {},
   "outputs": [],
   "source": [
    "import shap\n",
    "shap.initjs()\n",
    "explainxgb = shap.TreeExplainer(xgbm, xtest)\n",
    "shapvaluexgb = explainxgb.shap_values(xtest)"
   ]
  },
  {
   "cell_type": "code",
   "execution_count": null,
   "id": "3d0d0e8d",
   "metadata": {},
   "outputs": [],
   "source": [
    "shap_v = (shapvaluerf[1] + shapvalueet[1] + shapvaluexgb[1]) / 3\n",
    "shap_v"
   ]
  },
  {
   "cell_type": "code",
   "execution_count": null,
   "id": "9b9d85fb",
   "metadata": {},
   "outputs": [],
   "source": [
    "shap.summary_plot(shapvaluexgb, xtest)"
   ]
  }
 ],
 "metadata": {
  "kernelspec": {
   "display_name": "Python 3 (ipykernel)",
   "language": "python",
   "name": "python3"
  },
  "language_info": {
   "codemirror_mode": {
    "name": "ipython",
    "version": 3
   },
   "file_extension": ".py",
   "mimetype": "text/x-python",
   "name": "python",
   "nbconvert_exporter": "python",
   "pygments_lexer": "ipython3",
   "version": "3.10.9"
  }
 },
 "nbformat": 4,
 "nbformat_minor": 5
}
